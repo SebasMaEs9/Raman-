{
  "cells": [
    {
      "cell_type": "markdown",
      "metadata": {},
      "source": [
        "Sacarosa\n",
        "\n",
        "Estructuralmente es un disacarido constituido por la unión de dos monosacáridos, la glucosa (alfa-D-glucopiranosilo) y la fructosa (beta-D-fructofuranosilo)(Fennema, 2001); los cuales se únen por medio del carbono anomérico (los extremos reductores). Puesto que no posee extremo reductor libre .(Silveira et al, 2009)\n",
        "\n",
        "Silveira et al, 2009; determina el contenido de sacarosa en bebidas carbonatadas de limón por medio de la espectroscopía Raman (Poder del laser: 100 mW, longitud de onda de exitación: 830 nm, resolución: 8 cm-1), donde logra identificar los grupos funcionales y las longitudes de onda correspondientes a cada uno de estos grupos, los cuales comforman la estructura de la sacarosa.\n",
        "\n",
        "Longitud de onda (cm-1)              Grupo\n",
        "    824              1,3,5 tri substituted benzene\n",
        "    911                       CH--CH2\n",
        "    1052                      CH2-O-H \n",
        "    1119                       C-O-H\n",
        "    1255                       C-O-C\n",
        "    1445                        CH2\n",
        "\n",
        "![image.png](attachment:5028f0da-5262-4c4a-9720-b262110072fc.png)\n",
        "\n",
        "El National Health Institute, también menciona las características esturturales de la molecula de sacarosa, ademas de una referencia para el rango del espectro Raman.\n",
        "\n",
        "\n",
        "Referencias: \n",
        "    Fennema, O. (2001) Química de los alimentos. Acribia.\n",
        "    National Center for Biotechnology Information (2022). PubChem Compound Summary for CID 5988, Sucrose. Retrieved August 24, 2022 from https://pubchem.ncbi.nlm.nih.gov/compound/Sucrose.\n",
        "    Silveira L., Marmo L., G.B. V., Casalechi H., Fernandes F., S.R. M., Aparecido R. & Pacheco T. (2009) Determination of sucrose concentration in lemon-type soft drinks by dispersive Raman espectroscopy. DOI 10.3233/SPE-2009-0383\n",
        "    "
      ]
    }
  ],
  "metadata": {
    "kernelspec": {
      "display_name": "Python 3.10.6 64-bit",
      "language": "python",
      "name": "python3"
    },
    "language_info": {
      "codemirror_mode": {
        "name": "python",
        "version": 3
      },
      "file_extension": ".py",
      "mimetype": "text/x-python",
      "name": "python",
      "nbconvert_exporter": "python",
      "pygments_lexer": "ipython3",
      "version": "3.10.6"
    },
    "vscode": {
      "interpreter": {
        "hash": "3a8f326288239d4293e7480e74a849f2ae2b3792dc16382d6d8040a4519a85eb"
      }
    }
  },
  "nbformat": 4,
  "nbformat_minor": 4
}
