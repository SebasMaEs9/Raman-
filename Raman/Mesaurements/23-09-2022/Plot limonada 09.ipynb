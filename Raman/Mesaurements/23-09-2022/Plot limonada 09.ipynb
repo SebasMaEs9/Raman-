{
 "cells": [
  {
   "cell_type": "code",
   "execution_count": null,
   "metadata": {},
   "outputs": [
    {
     "ename": "",
     "evalue": "",
     "output_type": "error",
     "traceback": [
      "\u001b[1;31mLa ejecución de celdas con 'Python 3.10.6 64-bit' requieren el paquete ipykernel.\n",
      "\u001b[1;31mEjecute el siguiente comando para instalar 'ipykernel' en el entorno de Python. comando \n",
      "\u001b[1;31m: 's:/python.exe -m pip install ipykernel -U --user --force-reinstall'"
     ]
    }
   ],
   "source": [
    "import matplotlib.pyplot as plt\n",
    "x=[]\n",
    "y=[]\n",
    "for line in open('limonada_09.txt','r'):\n",
    "    lines=[i for i line.split()]\n",
    "    x.append(lines[0])\n",
    "    y.append(int(lines[1]))\n",
    "\n",
    "    plt.title(\"Raman Mesaurement LimonAda\")\n",
    "    plt.xlabel('Raman Shift (cm**-1)')\n",
    "    plt.ylabel('Intensity (arb. units)')\n",
    "    plt.plot(x,y,marker='o',c='g')\n",
    "    plt.show()\n"
   ]
  }
 ],
 "metadata": {
  "kernelspec": {
   "display_name": "Python 3.10.6 64-bit",
   "language": "python",
   "name": "python3"
  },
  "language_info": {
   "name": "python",
   "version": "3.10.6"
  },
  "orig_nbformat": 4,
  "vscode": {
   "interpreter": {
    "hash": "3a8f326288239d4293e7480e74a849f2ae2b3792dc16382d6d8040a4519a85eb"
   }
  }
 },
 "nbformat": 4,
 "nbformat_minor": 2
}
