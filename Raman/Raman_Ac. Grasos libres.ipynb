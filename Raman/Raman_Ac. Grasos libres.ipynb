{
  "cells": [
    {
      "cell_type": "markdown",
      "metadata": {},
      "source": [
        "\n",
        "\n",
        "\n",
        "Longitud de onda (cm-1)          Grupo\n",
        "    1267                         =C-H\n",
        "    1302                  en fase de giro del metileno\n",
        "    1442                         CH2 \n",
        "    1655                         C=C  \n",
        "    1747                         C=O\n",
        "    2852                       vsym(CH2)\n",
        "    2900                       vsym CH3\n",
        "    \n",
        "Referencias\n",
        "    Muik B., Lendl B., Molina-Díaz A., Ayora-Cañada M.J. (2003) Direct, reagent-free determination of free fatty acid content in olive oil an olives by Fourier transform Raman spectroscopy"
      ]
    }
  ],
  "metadata": {
    "kernelspec": {
      "display_name": "Python 3.10.6 64-bit",
      "language": "python",
      "name": "python3"
    },
    "language_info": {
      "codemirror_mode": {
        "name": "python",
        "version": 3
      },
      "file_extension": ".py",
      "mimetype": "text/x-python",
      "name": "python",
      "nbconvert_exporter": "python",
      "pygments_lexer": "ipython3",
      "version": "3.10.6"
    },
    "vscode": {
      "interpreter": {
        "hash": "3a8f326288239d4293e7480e74a849f2ae2b3792dc16382d6d8040a4519a85eb"
      }
    }
  },
  "nbformat": 4,
  "nbformat_minor": 4
}
