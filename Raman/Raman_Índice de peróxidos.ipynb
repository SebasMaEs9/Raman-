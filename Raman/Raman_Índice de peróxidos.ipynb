{
  "cells": [
    {
      "cell_type": "markdown",
      "metadata": {},
      "source": [
        "La estructura molecular publicada por NCBI, 2022, menciona un enlace covalente ademas de los grupos funcionales...\n",
        "\n",
        "El espectro del TPPO de:\n",
        " Raman de 3150 a 2950 cm-\n",
        " FTIR de 650 a 450 cm-1 Ademas de mencionar un rango del espectreo de Raman de 3000-3100 cm-1\n",
        "\n",
        "Longitud de onda (cm-1)          Grupo\n",
        "    542                           TPPO\n",
        "    \n",
        "TPPO= Óxido de trifenilfosfina\n",
        " \n",
        "Referencias\n",
        "    \n",
        "Li H., van de Voort F.R., Ismail A.A., Cox R. (2000) Determination of Peroxide Value by Fourier Transform Near.Infrared Spectroscopy\n",
        "    \n",
        "National Center for Biotechnology Information (2022). PubChem Compound Summary for CID 11979704, Tetrakis(triphenylphosphine)palladium. Retrieved August 29, 2022 from https://pubchem.ncbi.nlm.nih.gov/compound/Tetrakis_triphenylphosphine_palladium#section=IR-Spectra.\n",
        " National Center for Biotechnology Information (2022). PubChem Compound Summary for CID 13097, Triphenylphosphine oxide. Retrieved August 24, 2022 from https://pubchem.ncbi.nlm.nih.gov/compound/13097."
      ]
    }
  ],
  "metadata": {
    "kernelspec": {
      "display_name": "Python 3.10.6 64-bit",
      "language": "python",
      "name": "python3"
    },
    "language_info": {
      "codemirror_mode": {
        "name": "python",
        "version": 3
      },
      "file_extension": ".py",
      "mimetype": "text/x-python",
      "name": "python",
      "nbconvert_exporter": "python",
      "pygments_lexer": "ipython3",
      "version": "3.10.6"
    },
    "vscode": {
      "interpreter": {
        "hash": "3a8f326288239d4293e7480e74a849f2ae2b3792dc16382d6d8040a4519a85eb"
      }
    }
  },
  "nbformat": 4,
  "nbformat_minor": 4
}
